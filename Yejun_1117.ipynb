{
 "cells": [
  {
   "cell_type": "markdown",
   "id": "87d5495c",
   "metadata": {},
   "source": [
    "요일 고려없이 train 데이터의 날짜만(20191101이라면 1101만) 고려해서 sample_submission의 해당 날짜에 더하고 평균을 냄\n",
    "\n",
    "점수: 3.84098"
   ]
  },
  {
   "cell_type": "code",
   "execution_count": 14,
   "id": "73f7fd34",
   "metadata": {
    "collapsed": true
   },
   "outputs": [
    {
     "name": "stdout",
     "output_type": "stream",
     "text": [
      "Requirement already satisfied: pyarrow in c:\\users\\ab516\\coding\\anaconda\\lib\\site-packages (10.0.0)\n",
      "Requirement already satisfied: numpy>=1.16.6 in c:\\users\\ab516\\coding\\anaconda\\lib\\site-packages (from pyarrow) (1.21.5)\n",
      "Requirement already satisfied: fastparquet in c:\\users\\ab516\\coding\\anaconda\\lib\\site-packages (0.8.3)\n",
      "Requirement already satisfied: numpy>=1.18 in c:\\users\\ab516\\coding\\anaconda\\lib\\site-packages (from fastparquet) (1.21.5)\n",
      "Requirement already satisfied: pandas>=1.1.0 in c:\\users\\ab516\\coding\\anaconda\\lib\\site-packages (from fastparquet) (1.4.2)\n",
      "Requirement already satisfied: cramjam>=2.3.0 in c:\\users\\ab516\\coding\\anaconda\\lib\\site-packages (from fastparquet) (2.6.2)\n",
      "Requirement already satisfied: fsspec in c:\\users\\ab516\\coding\\anaconda\\lib\\site-packages (from fastparquet) (2022.2.0)\n",
      "Requirement already satisfied: packaging in c:\\users\\ab516\\coding\\anaconda\\lib\\site-packages (from fastparquet) (21.3)\n",
      "Requirement already satisfied: pytz>=2020.1 in c:\\users\\ab516\\coding\\anaconda\\lib\\site-packages (from pandas>=1.1.0->fastparquet) (2021.3)\n",
      "Requirement already satisfied: python-dateutil>=2.8.1 in c:\\users\\ab516\\coding\\anaconda\\lib\\site-packages (from pandas>=1.1.0->fastparquet) (2.8.2)\n",
      "Requirement already satisfied: six>=1.5 in c:\\users\\ab516\\coding\\anaconda\\lib\\site-packages (from python-dateutil>=2.8.1->pandas>=1.1.0->fastparquet) (1.16.0)\n",
      "Requirement already satisfied: pyparsing!=3.0.5,>=2.0.2 in c:\\users\\ab516\\coding\\anaconda\\lib\\site-packages (from packaging->fastparquet) (3.0.4)\n"
     ]
    }
   ],
   "source": [
    "!pip install pyarrow\n",
    "!pip install fastparquet"
   ]
  },
  {
   "cell_type": "code",
   "execution_count": 2,
   "id": "582754f3",
   "metadata": {},
   "outputs": [
    {
     "name": "stdout",
     "output_type": "stream",
     "text": [
      "C:\\Users\\ab516\\coding\\jupyter\\ddaLeung\n"
     ]
    }
   ],
   "source": [
    "import pandas as pd\n",
    "import numpy as np\n",
    "from sklearn.preprocessing import LabelEncoder\n",
    "from datetime import datetime\n",
    "import gc\n",
    "import os\n",
    "print(os.getcwd())\n",
    "# os.chdir(\"./coding./jupyter./ddaLeung\")"
   ]
  },
  {
   "cell_type": "code",
   "execution_count": 3,
   "id": "52ddea91",
   "metadata": {},
   "outputs": [
    {
     "name": "stdout",
     "output_type": "stream",
     "text": [
      "train Done.\n",
      "sample_submission Done.\n"
     ]
    }
   ],
   "source": [
    "def csv_to_parquet(csv_path, save_name):\n",
    "    df = pd.read_csv(csv_path)\n",
    "    df.to_parquet(f'./{save_name}.parquet')\n",
    "    del df\n",
    "    gc.collect()\n",
    "    print(save_name, 'Done.')\n",
    "    \n",
    "csv_to_parquet('./open/train.csv', 'train')\n",
    "csv_to_parquet('./open/sample_submission.csv', 'sample_submission')\n",
    "\n",
    "train = pd.read_parquet('./train.parquet')\n",
    "sample_submission=pd.read_parquet('./sample_submission.parquet')"
   ]
  },
  {
   "cell_type": "code",
   "execution_count": 65,
   "id": "af48a75f",
   "metadata": {},
   "outputs": [
    {
     "data": {
      "text/plain": [
       "(334, 5)"
      ]
     },
     "execution_count": 65,
     "metadata": {},
     "output_type": "execute_result"
    }
   ],
   "source": [
    "df=pd.DataFrame({\"일시\":train['일시'].unique()})\n",
    "df.sort_values(by=\"일시\", ascending=True)\n",
    "\n",
    "sample_submission.shape"
   ]
  },
  {
   "cell_type": "code",
   "execution_count": 4,
   "id": "69ccd31d",
   "metadata": {},
   "outputs": [
    {
     "data": {
      "text/plain": [
       "<bound method NDFrame.head of             일시    광진구   동대문구    성동구    중랑구\n",
       "0     20180101  0.592  0.368  0.580  0.162\n",
       "1     20180102  0.840  0.614  1.034  0.260\n",
       "2     20180103  0.828  0.576  0.952  0.288\n",
       "3     20180104  0.792  0.542  0.914  0.292\n",
       "4     20180105  0.818  0.602  0.994  0.308\n",
       "...        ...    ...    ...    ...    ...\n",
       "1456  20211227  3.830  3.416  2.908  2.350\n",
       "1457  20211228  4.510  3.890  3.714  2.700\n",
       "1458  20211229  4.490  3.524  3.660  2.524\n",
       "1459  20211230  4.444  3.574  3.530  2.506\n",
       "1460  20211231  3.616  3.210  2.620  2.146\n",
       "\n",
       "[1461 rows x 5 columns]>"
      ]
     },
     "execution_count": 4,
     "metadata": {},
     "output_type": "execute_result"
    }
   ],
   "source": [
    "train.head"
   ]
  },
  {
   "cell_type": "code",
   "execution_count": 68,
   "id": "a25995eb",
   "metadata": {},
   "outputs": [
    {
     "name": "stdout",
     "output_type": "stream",
     "text": [
      "           일시  광진구  동대문구  성동구  중랑구  개수\n",
      "0    20220101    0     0    0    0   0\n",
      "1    20220102    0     0    0    0   0\n",
      "2    20220103    0     0    0    0   0\n",
      "3    20220104    0     0    0    0   0\n",
      "4    20220105    0     0    0    0   0\n",
      "..        ...  ...   ...  ...  ...  ..\n",
      "329  20221126    0     0    0    0   0\n",
      "330  20221127    0     0    0    0   0\n",
      "331  20221128    0     0    0    0   0\n",
      "332  20221129    0     0    0    0   0\n",
      "333  20221130    0     0    0    0   0\n",
      "\n",
      "[334 rows x 6 columns]\n"
     ]
    }
   ],
   "source": [
    "\n",
    "sample_submission4=sample_submission.copy()\n",
    "sample_submission4['개수']=0\n",
    "print(sample_submission4)\n",
    "\n",
    "\n"
   ]
  },
  {
   "cell_type": "code",
   "execution_count": 63,
   "id": "2f78ffe0",
   "metadata": {},
   "outputs": [],
   "source": [
    "sample_sub_copy=sample_submission.copy()\n",
    "for i in range(len(train)):\n",
    "    day=train.iloc[i,0]%10000\n",
    "    for n in range(len(sample_sub_copy)):\n",
    "        if(sample_sub_copy.iloc[n,0]%10000==day):\n",
    "            for t in range(4):\n",
    "                sample_sub_copy.iloc[n,t+1]+=train.iloc[i,t+1]\n",
    "            break\n",
    "           \n",
    "for n in range(len(sample_sub_copy)):\n",
    "    for t in range(4):\n",
    "        sample_sub_copy.iloc[n,t+1]/=4\n",
    "            \n",
    "            \n",
    "today = datetime.today().strftime('%y%H%M%S')\n",
    "sample_sub_copy.to_csv(\"./submit_\"+today+\".csv\", index = False)\n"
   ]
  }
 ],
 "metadata": {
  "kernelspec": {
   "display_name": "Python 3 (ipykernel)",
   "language": "python",
   "name": "python3"
  },
  "language_info": {
   "codemirror_mode": {
    "name": "ipython",
    "version": 3
   },
   "file_extension": ".py",
   "mimetype": "text/x-python",
   "name": "python",
   "nbconvert_exporter": "python",
   "pygments_lexer": "ipython3",
   "version": "3.9.12"
  }
 },
 "nbformat": 4,
 "nbformat_minor": 5
}
